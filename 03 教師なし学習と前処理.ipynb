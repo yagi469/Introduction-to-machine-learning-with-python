{
 "cells": [
  {
   "cell_type": "markdown",
   "id": "ec129ab4",
   "metadata": {},
   "source": [
    "ここでは、教師なし学習と呼ばれる種類の機械学習アルゴリズムを見ていく。教師なし学習には、アルゴリズムの学習に教師情報を用いないすべての種類の機械学習が含まれる。教師なし学習では、アルゴリズムには入力データだけが与えられ、データから知識を抽出することが要求される。"
   ]
  },
  {
   "cell_type": "markdown",
   "id": "87db1695",
   "metadata": {},
   "source": [
    "# 3.1 教師なし学習の種類"
   ]
  },
  {
   "cell_type": "markdown",
   "id": "85d29fac",
   "metadata": {},
   "source": [
    "本章では、2種類の教師なし学習を見ていく。データセットの変換とクラスタリングである。"
   ]
  },
  {
   "cell_type": "markdown",
   "id": "8d794bde",
   "metadata": {},
   "source": [
    "データセットの_教師なし変換_(Unsupervised transformations)は、もとのデータ表現を変換して、人間やほかの機械学習アルゴリズムにとって、よりわかりやすい新しいデータ表現を作るアルゴリズムのことだ。教師なし変換の利用法として最も一般的なのは次元削減だ。次元削減とは、たくさんの特徴量で構成されるデータの高次元表現を入力として、少量の本質的な特徴を表す特徴量でそのデータを表す要約方法を見つけることだ。次元削減は、可視化のために次元数を2次元に減らす際にも用いられる。"
   ]
  },
  {
   "cell_type": "markdown",
   "id": "5c7115c8",
   "metadata": {},
   "source": [
    "もう1つの教師なし変換のアプリケーションとして、そのデータを「構成する」部品、もしくは成分を見つけることが挙げられる。"
   ]
  },
  {
   "cell_type": "markdown",
   "id": "af8e9d7a",
   "metadata": {},
   "source": [
    "# 3.2 教師なし学習の難しさ"
   ]
  },
  {
   "cell_type": "markdown",
   "id": "155919d1",
   "metadata": {},
   "source": [
    "教師なし学習の難しさは、アルゴリズムが学習したことの有用性の評価にある。"
   ]
  }
 ],
 "metadata": {
  "kernelspec": {
   "display_name": "Python 3 (ipykernel)",
   "language": "python",
   "name": "python3"
  },
  "language_info": {
   "codemirror_mode": {
    "name": "ipython",
    "version": 3
   },
   "file_extension": ".py",
   "mimetype": "text/x-python",
   "name": "python",
   "nbconvert_exporter": "python",
   "pygments_lexer": "ipython3",
   "version": "3.9.12"
  }
 },
 "nbformat": 4,
 "nbformat_minor": 5
}
