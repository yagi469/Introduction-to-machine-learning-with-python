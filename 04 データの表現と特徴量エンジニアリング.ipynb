{
 "cells": [
  {
   "cell_type": "markdown",
   "id": "ba42d6ed",
   "metadata": {},
   "source": [
    "これまでは、データが2次元の浮動小数点数配列として得られることを仮定していた。"
   ]
  },
  {
   "cell_type": "markdown",
   "id": "a07e8291",
   "metadata": {},
   "source": [
    "データを構成する特徴量のタイプによらず、特徴量の表現は機械学習モデルの性能に多大な影響を及ぼす。"
   ]
  },
  {
   "cell_type": "markdown",
   "id": "7f071452",
   "metadata": {},
   "source": [
    "特定のアプリケーションに対して、最良のデータ表現を探索することを、__特徴量エンジニアリング__(feature engineering)と呼ぶ。"
   ]
  },
  {
   "cell_type": "markdown",
   "id": "2084dc7b",
   "metadata": {},
   "source": [
    "本章ではまず、重要で非常に一般的なカテゴリ特徴量を見て、次に特定の特徴量とモデルの組み合わせに有効な変化の例をいくつか見ていく。"
   ]
  },
  {
   "cell_type": "markdown",
   "id": "7484f79d",
   "metadata": {},
   "source": [
    "# 4.1 カテゴリ変数"
   ]
  },
  {
   "cell_type": "code",
   "execution_count": null,
   "id": "09591b51",
   "metadata": {},
   "outputs": [],
   "source": []
  }
 ],
 "metadata": {
  "kernelspec": {
   "display_name": "Python 3 (ipykernel)",
   "language": "python",
   "name": "python3"
  },
  "language_info": {
   "codemirror_mode": {
    "name": "ipython",
    "version": 3
   },
   "file_extension": ".py",
   "mimetype": "text/x-python",
   "name": "python",
   "nbconvert_exporter": "python",
   "pygments_lexer": "ipython3",
   "version": "3.9.12"
  }
 },
 "nbformat": 4,
 "nbformat_minor": 5
}
