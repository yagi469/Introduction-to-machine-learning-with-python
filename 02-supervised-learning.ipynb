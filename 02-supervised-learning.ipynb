{
 "cells": [
  {
   "cell_type": "markdown",
   "id": "96e2d5a0",
   "metadata": {},
   "source": [
    "# 2.3 教師あり機械学習アルゴリズム"
   ]
  },
  {
   "cell_type": "markdown",
   "id": "2e2773d9",
   "metadata": {},
   "source": [
    "これから、最も一般的な機械学習アルゴリズムについて、どのようにデータから学習し、どのように予測を行うのかを見ていく。モデルの複雑さという概念が個々のモデルで果たす役割について述べ、個々のアルゴリズムが、モデルを構築する方法の概要を示す。さらに、それぞれのアルゴリズムの長所と短所、適しているデータの種類について述べる。重要なパラメータとオプションについても説明する[<sup>1</sup>](#id_01)。多くのアルゴリズムは、クラス分類と回帰のバリエーションがあるので両方とも説明する。"
   ]
  },
  {
   "cell_type": "markdown",
   "id": "a6f7e8d6",
   "metadata": {},
   "source": [
    "個々のアルゴリズムの説明をすべて詳しく読む必要はないが、モデルを理解することで個々の機械学習アルゴリズムの働き方についてよりよく理解することができるだろう。本書はリファレンスガイドとしても利用できる。アルゴリズムの動作がわからなくなったら、本章に立ち戻るとよいだろう。"
   ]
  },
  {
   "cell_type": "markdown",
   "id": "655c862a",
   "metadata": {},
   "source": [
    "<span id=\"id_01\">すべてを説明するのはこの本の範囲を超える。</span>"
   ]
  },
  {
   "cell_type": "markdown",
   "id": "b7d7256a",
   "metadata": {},
   "source": [
    "## 2.3.1 サンプルデータセット"
   ]
  },
  {
   "cell_type": "markdown",
   "id": "ec253ef3",
   "metadata": {},
   "source": [
    "これからさまざまなアルゴリズムを紹介するために、いくつかのデータセットを使う。そのうちのいくつかは、小さくて合成したもの（つまりでっち上げたもの）で、アルゴリズムの特定の側面を強調するように設計されている。この他に、大きい、実世界から取ってきたデータセットも用いる。"
   ]
  },
  {
   "cell_type": "markdown",
   "id": "199410f2",
   "metadata": {},
   "source": [
    "合成した2クラス分類データセットの例として、forgeデータセットを見てみよう。このデータセットは、2つの特徴量を持つ。下のコードはこのデータセットのデータポイントを散布図にプロットする。第1特徴量をx軸に、第2特徴量をy軸にプロットしている。散布図ではいつもそうだが、1つの点が1つのデータポイントを表す。点の色と形はクラスを表している。"
   ]
  },
  {
   "cell_type": "code",
   "execution_count": 1,
   "id": "8e141e78",
   "metadata": {},
   "outputs": [],
   "source": [
    "import numpy as np\n",
    "import matplotlib.pyplot as plt\n",
    "import pandas as pd\n",
    "import mglearn\n",
    "from IPython.display import display"
   ]
  },
  {
   "cell_type": "code",
   "execution_count": 3,
   "id": "a6b82820",
   "metadata": {},
   "outputs": [
    {
     "name": "stdout",
     "output_type": "stream",
     "text": [
      "X.shape: (26, 2)\n"
     ]
    },
    {
     "data": {
      "image/png": "[encoded data removed]",
      "text/plain": [
       "<Figure size 432x288 with 1 Axes>"
      ]
     },
     "metadata": {
      "needs_background": "light"
     },
     "output_type": "display_data"
    }
   ],
   "source": [
    "# データセットの作成\n",
    "X, y = mglearn.datasets.make_forge()\n",
    "# データセットをプロット\n",
    "mglearn.discrete_scatter(X[:, 0], X[:, 1], y)\n",
    "plt.legend([\"Class 0\", \"Class 1\"], loc=4)\n",
    "plt.xlabel(\"First feature\")\n",
    "plt.ylabel(\"Second feature\")\n",
    "print(\"X.shape: {}\".format(X.shape))"
   ]
  },
  {
   "cell_type": "markdown",
   "id": "21bfb188",
   "metadata": {},
   "source": [
    "X.shapeからわかるように、このデータセットは、2つの特徴量を持つ26のデータポイントで構成されている。"
   ]
  },
  {
   "cell_type": "markdown",
   "id": "8ec45cfa",
   "metadata": {},
   "source": [
    "回帰アルゴリズムを紹介する際には、合成したwaveデータセットを用いる。このwaveデータセットは、入力として1つの特徴量と、モデルの対象となる連続値のターゲット変数（もしくは__反応__(response)）を持つ。下図に示すプロットは、特徴量をx軸に、回帰のターゲット（出力）をy軸に取っている。"
   ]
  },
  {
   "cell_type": "code",
   "execution_count": 4,
   "id": "4d63144d",
   "metadata": {},
   "outputs": [
    {
     "data": {
      "text/plain": [
       "Text(0, 0.5, 'Target')"
      ]
     },
     "execution_count": 4,
     "metadata": {},
     "output_type": "execute_result"
    },
    {
     "data": {
      "image/png": "[encoded data removed]",
      "text/plain": [
       "<Figure size 432x288 with 1 Axes>"
      ]
     },
     "metadata": {
      "needs_background": "light"
     },
     "output_type": "display_data"
    }
   ],
   "source": [
    "X, y = mglearn.datasets.make_wave(n_samples=40)\n",
    "plt.plot(X, y, 'o')\n",
    "plt.ylim(-3, 3)\n",
    "plt.xlabel(\"Feature\")\n",
    "plt.ylabel(\"Target\")"
   ]
  },
  {
   "cell_type": "markdown",
   "id": "f7ed29a0",
   "metadata": {},
   "source": [
    "このように非常に単純な、低次元のデータセットを使うのは、可視化が容易だからである。印刷物には2次元なので、2つ以上の特徴量は表示しにくいからだ。ただし、少ない特徴量を持つデータセット（__低次元データセット__(low-dimensional dataset)）に対する直感が、多数の特徴量を持つデータセット（__高次元データセット__(high-dimensional dataset)）に対しても通用するとは限らない。このことさえ心に留めておけば、低次元データセットでアルゴリズムを検討することは学習のためになる。"
   ]
  },
  {
   "cell_type": "markdown",
   "id": "94e17b61",
   "metadata": {},
   "source": [
    "これらの小さい合成データセットを補うために、scikit-learnに含まれている2つの実問題から取ったデータセットを用いる。その1つはウィスコンシン乳癌データセット(cancerと呼ぶ)である。これは、乳癌の腫瘍を計測したもので、それぞれの腫瘍に、害のない腫瘍を意味する「良性(benign)」か、癌性の腫瘍を意味する「悪性(malignant)」かのラベルが付けられている。ここでのタスクは、組織の測定結果から腫瘍が悪性かどうかを予測するように学習することである。"
   ]
  },
  {
   "cell_type": "markdown",
   "id": "d2b4e877",
   "metadata": {},
   "source": [
    "このデータはscikit-learnのload_breast_cancer関数でロードすることができる。"
   ]
  },
  {
   "cell_type": "code",
   "execution_count": 5,
   "id": "78807522",
   "metadata": {},
   "outputs": [
    {
     "name": "stdout",
     "output_type": "stream",
     "text": [
      "cancer.keys(): \n",
      "dict_keys(['data', 'target', 'frame', 'target_names', 'DESCR', 'feature_names', 'filename', 'data_module'])\n"
     ]
    }
   ],
   "source": [
    "from sklearn.datasets import load_breast_cancer\n",
    "cancer = load_breast_cancer()\n",
    "print(\"cancer.keys(): \\n{}\".format(cancer.keys()))"
   ]
  },
  {
   "cell_type": "markdown",
   "id": "e0e2ca49",
   "metadata": {},
   "source": [
    "このデータセットは、30の特徴量を持つ569のデータポイントで構成されている。"
   ]
  },
  {
   "cell_type": "code",
   "execution_count": 6,
   "id": "672348e4",
   "metadata": {},
   "outputs": [
    {
     "name": "stdout",
     "output_type": "stream",
     "text": [
      "Shape of cancer data: (569, 30)\n"
     ]
    }
   ],
   "source": [
    "print(\"Shape of cancer data: {}\".format(cancer.data.shape))"
   ]
  },
  {
   "cell_type": "markdown",
   "id": "5045b1c1",
   "metadata": {},
   "source": [
    "569のデータポイントのうち、212が悪性で357が良性である。"
   ]
  },
  {
   "cell_type": "code",
   "execution_count": null,
   "id": "7ec9771c",
   "metadata": {},
   "outputs": [],
   "source": [
    "print(\"Sample count per class:\\n{}\".format(\n",
    "    {n: v for n, v in zip(cancer.target_names, np.bincount(cancer.target)) }))"
   ]
  }
 ],
 "metadata": {
  "kernelspec": {
   "display_name": "Python 3 (ipykernel)",
   "language": "python",
   "name": "python3"
  },
  "language_info": {
   "codemirror_mode": {
    "name": "ipython",
    "version": 3
   },
   "file_extension": ".py",
   "mimetype": "text/x-python",
   "name": "python",
   "nbconvert_exporter": "python",
   "pygments_lexer": "ipython3",
   "version": "3.9.12"
  }
 },
 "nbformat": 4,
 "nbformat_minor": 5
}
