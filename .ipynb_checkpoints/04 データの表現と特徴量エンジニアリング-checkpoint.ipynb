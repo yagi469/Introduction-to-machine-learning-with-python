{
 "cells": [
  {
   "cell_type": "markdown",
   "id": "18daa9af",
   "metadata": {},
   "source": [
    "これまでは、データが2次元の浮動小数点数配列として得られることを仮定していた。"
   ]
  },
  {
   "cell_type": "markdown",
   "id": "97e48d57",
   "metadata": {},
   "source": [
    "データを構成する特徴量のタイプによらず、特徴量の表現は機械学習モデルの性能に多大な影響を及ぼす。"
   ]
  },
  {
   "cell_type": "markdown",
   "id": "47742214",
   "metadata": {},
   "source": [
    "特定のアプリケーションに対して、最良のデータ表現を探索することを、__特徴量エンジニアリング__(feature engineering)と呼ぶ。"
   ]
  },
  {
   "cell_type": "markdown",
   "id": "c05d3211",
   "metadata": {},
   "source": [
    "本章ではまず、重要で非常に一般的なカテゴリ特徴量を見て、次に特定の特徴量とモデルの組み合わせに有効な変化の例をいくつか見ていく。"
   ]
  },
  {
   "cell_type": "code",
   "execution_count": null,
   "id": "b40d03cc",
   "metadata": {},
   "outputs": [],
   "source": []
  }
 ],
 "metadata": {
  "kernelspec": {
   "display_name": "Python 3 (ipykernel)",
   "language": "python",
   "name": "python3"
  },
  "language_info": {
   "codemirror_mode": {
    "name": "ipython",
    "version": 3
   },
   "file_extension": ".py",
   "mimetype": "text/x-python",
   "name": "python",
   "nbconvert_exporter": "python",
   "pygments_lexer": "ipython3",
   "version": "3.9.12"
  }
 },
 "nbformat": 4,
 "nbformat_minor": 5
}
